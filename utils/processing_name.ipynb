{
 "cells": [
  {
   "cell_type": "code",
   "execution_count": 16,
   "metadata": {},
   "outputs": [],
   "source": [
    "# import libraries:\n",
    "import os\n",
    "import glob\n",
    "import cv2"
   ]
  },
  {
   "cell_type": "code",
   "execution_count": 44,
   "metadata": {},
   "outputs": [],
   "source": [
    "def rename_imgs(dataset_path):\n",
    "    index = 0\n",
    "    for class_name in os.listdir(dataset_path):\n",
    "        class_name_path = os.path.join(dataset_path, class_name)\n",
    "        lst_img_paths = glob.glob(os.path.join(class_name_path, \"*.[jp][pn]g\"))\n",
    "        for image_path in lst_img_paths:\n",
    "            new_name = f\"{index:05d}.png\"\n",
    "            new_img_path = os.path.join(class_name_path, new_name)\n",
    "            os.rename(image_path, new_img_path)\n",
    "            index +=1"
   ]
  },
  {
   "cell_type": "code",
   "execution_count": 45,
   "metadata": {},
   "outputs": [],
   "source": [
    "rename_imgs(\"../Dataset/use/\")"
   ]
  },
  {
   "cell_type": "code",
   "execution_count": null,
   "metadata": {},
   "outputs": [],
   "source": []
  }
 ],
 "metadata": {
  "kernelspec": {
   "display_name": "ai",
   "language": "python",
   "name": "python3"
  },
  "language_info": {
   "codemirror_mode": {
    "name": "ipython",
    "version": 3
   },
   "file_extension": ".py",
   "mimetype": "text/x-python",
   "name": "python",
   "nbconvert_exporter": "python",
   "pygments_lexer": "ipython3",
   "version": "3.7.0"
  }
 },
 "nbformat": 4,
 "nbformat_minor": 2
}
